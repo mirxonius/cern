{
 "cells": [
  {
   "cell_type": "code",
   "execution_count": 1,
   "metadata": {},
   "outputs": [],
   "source": [
    "from BKG_Dataholder import BKG_dataholder\n",
    "from Coll_Data_Aug import Coll_Data_Augmentator\n",
    "import matplotlib.pyplot as plt\n",
    "import numpy as np\n",
    "import pandas as pd\n",
    "\n",
    "\n",
    "import os\n",
    "import json\n",
    "import time,datetime\n",
    "import tables as t\n",
    "\n",
    "%matplotlib inline"
   ]
  },
  {
   "cell_type": "code",
   "execution_count": 2,
   "metadata": {},
   "outputs": [],
   "source": [
    "COLLIMATOR_VARIABLES = [        \n",
    "        \":SET_LD\",\n",
    "        #\":SET_LU\",\n",
    "        \":SET_RD\",\n",
    "        #\":SET_RU\"\n",
    "        ]\n",
    "\n",
    "COLL_COLLORS = {\n",
    "        \"TCTPH.4L5.B1\":\"firebrick\",\n",
    "        \"TCTPH.4R5.B2\":\"firebrick\",\n",
    "        \"TCTPV.4L5.B1\":\"black\",\n",
    "        \"TCTPV.4R5.B2\":\"black\",\n",
    "        'TCL.4R5.B1':\"violet\", \n",
    "        'TCL.5R5.B1':\"firebrick\",\n",
    "        'TCL.6R5.B1':\"green\", \n",
    "        'TCL.4L5.B2':\"violet\", \n",
    "        'TCL.5L5.B2':\"firebrick\", \n",
    "        'TCL.6L5.B2':\"green\"\n",
    "\n",
    "}\n",
    "\n",
    "\n",
    "COLLIMATOR_PATH = \"/home/mirksonius/Desktop/Fill_info/collimators/\"\n",
    "\n",
    "VACUUM_PATH = \"/home/mirksonius/Desktop/Fill_info/vacuum/\"\n",
    "vac_vars = [\n",
    "    \"VGI.183.1L5.X.PR\",\n",
    "    \"VGI.183.1R5.X.PR\",\n",
    "    \"VGI.220.1L5.X.PR\",\n",
    "    \"VGI.220.1R5.X.PR\"]\n",
    "\n",
    "BEAM_PATH = \"/home/mirksonius/Desktop/Fill_info/beam/\"\n",
    "\n",
    "\n",
    "FILL_PATH = \"/home/mirksonius/Desktop/22_fills/\"\n",
    "FILL_NUMBER =  8099\n",
    "\n"
   ]
  },
  {
   "cell_type": "code",
   "execution_count": 3,
   "metadata": {},
   "outputs": [
    {
     "name": "stdout",
     "output_type": "stream",
     "text": [
      "Opening file 8099_356916_2208060210_2208060231.hd5\n",
      "File 8099_356916_2208060210_2208060231.hd5 starts at 2022-08-06 02:30:33 and ends at 2022-08-06 02:34:13\n",
      "Opening file 8099_356917_2208060231_2208060340.hd5\n",
      "File 8099_356917_2208060231_2208060340.hd5 starts at 2022-08-06 02:34:15 and ends at 2022-08-06 03:41:41\n"
     ]
    }
   ],
   "source": [
    "bkg = BKG_dataholder(fill_path = FILL_PATH,\n",
    "                                    fill_number = FILL_NUMBER,\n",
    "                                    beam_path = BEAM_PATH,\n",
    "                                   collimator_path = COLLIMATOR_PATH,\n",
    "                                   vacuum_path= VACUUM_PATH  \n",
    "                                   )\n",
    "bkg.get_beam_data()\n",
    "bkg.get_fill_data()\n",
    "bkg.get_vacuum_data()\n",
    "bkg.get_collimator_data()"
   ]
  }
 ],
 "metadata": {
  "kernelspec": {
   "display_name": "Python 3.10.4 64-bit",
   "language": "python",
   "name": "python3"
  },
  "language_info": {
   "codemirror_mode": {
    "name": "ipython",
    "version": 3
   },
   "file_extension": ".py",
   "mimetype": "text/x-python",
   "name": "python",
   "nbconvert_exporter": "python",
   "pygments_lexer": "ipython3",
   "version": "3.10.4"
  },
  "orig_nbformat": 4,
  "vscode": {
   "interpreter": {
    "hash": "916dbcbb3f70747c44a77c7bcd40155683ae19c65e1c03b4aa3499c5328201f1"
   }
  }
 },
 "nbformat": 4,
 "nbformat_minor": 2
}
