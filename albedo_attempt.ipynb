{
 "cells": [
  {
   "cell_type": "code",
   "execution_count": 29,
   "metadata": {},
   "outputs": [],
   "source": [
    "import numpy as np\n",
    "from BKG_Dataholder import BKG_dataholder\n",
    "import matplotlib.pyplot as plt\n",
    "import os\n",
    "import tables as t\n",
    "from datetime import datetime\n",
    "\n",
    "\n",
    "%matplotlib inline"
   ]
  },
  {
   "cell_type": "code",
   "execution_count": 30,
   "metadata": {},
   "outputs": [],
   "source": [
    "BEAM_PATH = \"/home/mirksonius/Desktop/Fill_info/beam/\"\n",
    "COLLIMATOR_PATH = \"/home/mirksonius/Desktop/Fill_info/collimators/\"\n",
    "VACUUM_PATH = \"/home/mirksonius/Desktop/Fill_info/vacuum/\"\n",
    "FILL_PATH = \"/home/mirksonius/Desktop/22_fills/\"\n",
    "FILL_NUMBER = 7921\n",
    "\n",
    "vac_vars = [\n",
    "    \"VGI.183.1L5.X.PR\",\n",
    "    \"VGI.183.1R5.X.PR\",\n",
    "    \"VGI.220.1L5.X.PR\",\n",
    "    \"VGI.220.1R5.X.PR\"]\n",
    "\n",
    "files = os.listdir(FILL_PATH + str(FILL_NUMBER))"
   ]
  },
  {
   "cell_type": "code",
   "execution_count": 31,
   "metadata": {},
   "outputs": [
    {
     "name": "stdout",
     "output_type": "stream",
     "text": [
      "Opening file 7963_355400_2207110026_2207110026.hd5\n",
      "File 7963_355400_2207110026_2207110026.hd5 starts at 2022-07-11 00:26:58 and ends at 2022-07-11 00:29:49\n",
      "Opening file 7963_355401_2207110026_2207110112.hd5\n",
      "File 7963_355401_2207110026_2207110112.hd5 starts at 2022-07-11 01:10:27 and ends at 2022-07-11 01:13:57\n",
      "Opening file 7963_355402_2207110112_2207110145.hd5\n",
      "File 7963_355402_2207110112_2207110145.hd5 starts at 2022-07-11 01:13:59 and ends at 2022-07-11 01:49:08\n",
      "Opening file 7963_355403_2207110145_2207110205.hd5\n",
      "File 7963_355403_2207110145_2207110205.hd5 starts at 2022-07-11 01:49:11 and ends at 2022-07-11 02:08:07\n",
      "Opening file 7963_355404_2207110205_2207110924.hd5\n",
      "File 7963_355404_2207110205_2207110924.hd5 starts at 2022-07-11 02:08:09 and ends at 2022-07-11 09:26:38\n",
      "Opening file 7963_355405_2207110924_2207110931.hd5\n",
      "File 7963_355405_2207110924_2207110931.hd5 starts at 2022-07-11 09:26:35 and ends at 2022-07-11 09:35:09\n",
      "Opening file 7963_355406_2207110931_2207110942.hd5\n",
      "File 7963_355406_2207110931_2207110942.hd5 starts at 2022-07-11 09:35:11 and ends at 2022-07-11 09:46:20\n",
      "Opening file 7963_355407_2207110942_2207111003.hd5\n",
      "File 7963_355407_2207110942_2207111003.hd5 starts at 2022-07-11 09:46:22 and ends at 2022-07-11 10:04:00\n",
      "Opening file 7963_355408_2207111003_2207111017.hd5\n",
      "File 7963_355408_2207111003_2207111017.hd5 starts at 2022-07-11 10:04:02 and ends at 2022-07-11 10:19:34\n",
      "Opening file 7963_355409_2207111017_2207111021.hd5\n",
      "File 7963_355409_2207111017_2207111021.hd5 starts at 2022-07-11 10:19:37 and ends at 2022-07-11 10:22:51\n",
      "Opening file 7963_355410_2207111021_2207111028.hd5\n",
      "File 7963_355410_2207111021_2207111028.hd5 starts at 2022-07-11 10:22:52 and ends at 2022-07-11 10:30:10\n",
      "Opening file 7963_355411_2207111028_2207111038.hd5\n",
      "File 7963_355411_2207111028_2207111038.hd5 starts at 2022-07-11 10:30:12 and ends at 2022-07-11 10:39:52\n",
      "Opening file 7963_355414_2207111038_2207111046.hd5\n",
      "File 7963_355414_2207111038_2207111046.hd5 starts at 2022-07-11 10:39:54 and ends at 2022-07-11 10:47:08\n",
      "Opening file 7963_355415_2207111046_2207111053.hd5\n",
      "File 7963_355415_2207111046_2207111053.hd5 starts at 2022-07-11 10:47:10 and ends at 2022-07-11 10:55:56\n",
      "Opening file 7963_355417_2207111053_2207111103.hd5\n",
      "File 7963_355417_2207111053_2207111103.hd5 starts at 2022-07-11 10:55:58 and ends at 2022-07-11 11:05:49\n",
      "Opening file 7963_355418_2207111103_2207111121.hd5\n",
      "File 7963_355418_2207111103_2207111121.hd5 starts at 2022-07-11 11:05:52 and ends at 2022-07-11 11:24:06\n",
      "Opening file 7963_355419_2207111121_2207111209.hd5\n",
      "File 7963_355419_2207111121_2207111209.hd5 starts at 2022-07-11 11:24:08 and ends at 2022-07-11 12:12:04\n"
     ]
    }
   ],
   "source": [
    "bkg = BKG_dataholder(\n",
    "                    fill_path = FILL_PATH,\n",
    "                    fill_number = FILL_NUMBER,\n",
    "                    beam_path = BEAM_PATH,\n",
    "                    collimator_path = COLLIMATOR_PATH,\n",
    "                    vacuum_path= VACUUM_PATH  \n",
    "                                   )\n",
    "\n",
    "bkg.get_beam_data()\n",
    "bkg.get_fill_data()\n"
   ]
  },
  {
   "cell_type": "code",
   "execution_count": 32,
   "metadata": {},
   "outputs": [
    {
     "name": "stdout",
     "output_type": "stream",
     "text": [
      "Non colliding beam 1:  [287 288 289 290 291 292 293 294 295 296 297 298 914]\n",
      "Non colliding beam 2:  [734 735 736 737 738 739 740 741 742 743 744 745 911]\n",
      "Colliding:  [  20 1169 1170 1171 1172 1173 1174 1175 1176 1177 1178 1179 1180 1628\n",
      " 1629 1630 1631 1632 1633 1634 1635 1636 1637 1638 1639 1805 2063 2064\n",
      " 2065 2066 2067 2068 2069 2070 2071 2072 2073 2074 2522 2523 2524 2525\n",
      " 2526 2527 2528 2529 2530 2531 2532 2533 2957 2958 2959 2960 2961 2962\n",
      " 2963 2964 2965 2966 2967 2968]\n",
      "20\n",
      "1180\n",
      "1639\n",
      "1805\n",
      "2074\n",
      "2533\n",
      "[   0    1    2 ... 3561 3562 3563]\n"
     ]
    }
   ],
   "source": [
    "print(\"Non colliding beam 1: \",bkg.noncolliding1)\n",
    "print(\"Non colliding beam 2: \",bkg.noncolliding2)\n",
    "print(\"Colliding: \",bkg.colliding_bunches)\n",
    "colliding = bkg.colliding_bunches\n",
    "for i in range(len(colliding)-1):\n",
    "    if colliding[i+1]-colliding[i]>1:\n",
    "        print(colliding[i])\n",
    "print(bkg.empty_bunches)"
   ]
  },
  {
   "cell_type": "code",
   "execution_count": 33,
   "metadata": {},
   "outputs": [
    {
     "name": "stdout",
     "output_type": "stream",
     "text": [
      "Opening file:  7963_355400_2207110026_2207110026.hd5\n",
      "Opening file:  7963_355401_2207110026_2207110112.hd5\n",
      "Opening file:  7963_355402_2207110112_2207110145.hd5\n",
      "Opening file:  7963_355403_2207110145_2207110205.hd5\n",
      "Opening file:  7963_355404_2207110205_2207110924.hd5\n",
      "Opening file:  7963_355405_2207110924_2207110931.hd5\n",
      "Opening file:  7963_355406_2207110931_2207110942.hd5\n",
      "Opening file:  7963_355407_2207110942_2207111003.hd5\n",
      "Opening file:  7963_355408_2207111003_2207111017.hd5\n",
      "Opening file:  7963_355409_2207111017_2207111021.hd5\n",
      "Opening file:  7963_355410_2207111021_2207111028.hd5\n",
      "Opening file:  7963_355411_2207111028_2207111038.hd5\n",
      "Opening file:  7963_355414_2207111038_2207111046.hd5\n",
      "Opening file:  7963_355415_2207111046_2207111053.hd5\n",
      "Opening file:  7963_355417_2207111053_2207111103.hd5\n",
      "Opening file:  7963_355418_2207111103_2207111121.hd5\n",
      "Opening file:  7963_355419_2207111121_2207111209.hd5\n"
     ]
    }
   ],
   "source": [
    "hits_in_empty = np.zeros(len(bkg.empty_bunches),dtype = \"float32\")\n",
    "\n",
    "for name in files:\n",
    "    print(\"Opening file: \",name)\n",
    "    with t.open_file(FILL_PATH + str(FILL_NUMBER)+\"/\" + name,'r') as f:\n",
    "        for row in f.root.bcm1flumi.iterrows():\n",
    "            hits_in_empty += row[\"bxraw\"][bkg.empty_bunches]\n"
   ]
  },
  {
   "cell_type": "code",
   "execution_count": null,
   "metadata": {},
   "outputs": [],
   "source": []
  },
  {
   "cell_type": "code",
   "execution_count": 37,
   "metadata": {},
   "outputs": [
    {
     "data": {
      "text/plain": [
       "(-1.0, 1.0)"
      ]
     },
     "execution_count": 37,
     "metadata": {},
     "output_type": "execute_result"
    },
    {
     "data": {
      "image/png": "[encoded data removed]",
      "text/plain": [
       "<Figure size 432x288 with 1 Axes>"
      ]
     },
     "metadata": {
      "needs_background": "light"
     },
     "output_type": "display_data"
    }
   ],
   "source": [
    "plt.plot(hits_in_empty)\n",
    "#plt.yscale(\"log\")\n"
   ]
  },
  {
   "cell_type": "code",
   "execution_count": 35,
   "metadata": {},
   "outputs": [
    {
     "ename": "KeyboardInterrupt",
     "evalue": "",
     "output_type": "error",
     "traceback": [
      "\u001b[0;31m---------------------------------------------------------------------------\u001b[0m",
      "\u001b[0;31mKeyboardInterrupt\u001b[0m                         Traceback (most recent call last)",
      "\u001b[0;32m/tmp/ipykernel_13780/148085911.py\u001b[0m in \u001b[0;36m<module>\u001b[0;34m\u001b[0m\n\u001b[1;32m     11\u001b[0m         \u001b[0;32mfor\u001b[0m \u001b[0mrow\u001b[0m \u001b[0;32min\u001b[0m \u001b[0mh5\u001b[0m\u001b[0;34m.\u001b[0m\u001b[0mroot\u001b[0m\u001b[0;34m.\u001b[0m\u001b[0mbcm1flumi\u001b[0m\u001b[0;34m.\u001b[0m\u001b[0miterrows\u001b[0m\u001b[0;34m(\u001b[0m\u001b[0;34m)\u001b[0m\u001b[0;34m:\u001b[0m\u001b[0;34m\u001b[0m\u001b[0;34m\u001b[0m\u001b[0m\n\u001b[1;32m     12\u001b[0m                 \u001b[0mbxraw\u001b[0m \u001b[0;34m+=\u001b[0m \u001b[0mrow\u001b[0m\u001b[0;34m[\u001b[0m\u001b[0;34m'bxraw'\u001b[0m\u001b[0;34m]\u001b[0m\u001b[0;34m\u001b[0m\u001b[0;34m\u001b[0m\u001b[0m\n\u001b[0;32m---> 13\u001b[0;31m                 \u001b[0mbx\u001b[0m \u001b[0;34m+=\u001b[0m \u001b[0mrow\u001b[0m\u001b[0;34m[\u001b[0m\u001b[0;34m'bx'\u001b[0m\u001b[0;34m]\u001b[0m\u001b[0;34m\u001b[0m\u001b[0;34m\u001b[0m\u001b[0m\n\u001b[0m\u001b[1;32m     14\u001b[0m         \u001b[0mh5\u001b[0m\u001b[0;34m.\u001b[0m\u001b[0mclose\u001b[0m\u001b[0;34m(\u001b[0m\u001b[0;34m)\u001b[0m\u001b[0;34m\u001b[0m\u001b[0;34m\u001b[0m\u001b[0m\n",
      "\u001b[0;31mKeyboardInterrupt\u001b[0m: "
     ]
    }
   ],
   "source": [
    "probe1 = 0\n",
    "probe2 = 1785\n",
    "probe3 = 1\n",
    "\n",
    "\n",
    "bxraw = np.zeros(3564)\n",
    "bx = np.zeros(3564)\n",
    "\n",
    "for file in files:\n",
    "\th5 = t.open_file(FILL_PATH+ str(FILL_NUMBER)+'/'+file)\n",
    "\tfor row in h5.root.bcm1flumi.iterrows():\n",
    "\t\tbxraw += row['bxraw']\n",
    "\t\tbx += row['bx']\n",
    "\th5.close()"
   ]
  },
  {
   "cell_type": "code",
   "execution_count": null,
   "metadata": {},
   "outputs": [
    {
     "ename": "NameError",
     "evalue": "name 'bxraw' is not defined",
     "output_type": "error",
     "traceback": [
      "\u001b[0;31m---------------------------------------------------------------------------\u001b[0m",
      "\u001b[0;31mNameError\u001b[0m                                 Traceback (most recent call last)",
      "\u001b[0;32m/tmp/ipykernel_13780/3047456921.py\u001b[0m in \u001b[0;36m<module>\u001b[0;34m\u001b[0m\n\u001b[0;32m----> 1\u001b[0;31m \u001b[0mplt\u001b[0m\u001b[0;34m.\u001b[0m\u001b[0mplot\u001b[0m\u001b[0;34m(\u001b[0m\u001b[0mbxraw\u001b[0m\u001b[0;34m)\u001b[0m\u001b[0;34m\u001b[0m\u001b[0;34m\u001b[0m\u001b[0m\n\u001b[0m\u001b[1;32m      2\u001b[0m \u001b[0mplt\u001b[0m\u001b[0;34m.\u001b[0m\u001b[0myscale\u001b[0m\u001b[0;34m(\u001b[0m\u001b[0;34m\"log\"\u001b[0m\u001b[0;34m)\u001b[0m\u001b[0;34m\u001b[0m\u001b[0;34m\u001b[0m\u001b[0m\n",
      "\u001b[0;31mNameError\u001b[0m: name 'bxraw' is not defined"
     ]
    }
   ],
   "source": [
    "plt.plot(bxraw)\n",
    "plt.yscale(\"log\")"
   ]
  }
 ],
 "metadata": {
  "kernelspec": {
   "display_name": "Python 3.10.4 64-bit",
   "language": "python",
   "name": "python3"
  },
  "language_info": {
   "codemirror_mode": {
    "name": "ipython",
    "version": 3
   },
   "file_extension": ".py",
   "mimetype": "text/x-python",
   "name": "python",
   "nbconvert_exporter": "python",
   "pygments_lexer": "ipython3",
   "version": "3.10.4"
  },
  "orig_nbformat": 4,
  "vscode": {
   "interpreter": {
    "hash": "916dbcbb3f70747c44a77c7bcd40155683ae19c65e1c03b4aa3499c5328201f1"
   }
  }
 },
 "nbformat": 4,
 "nbformat_minor": 2
}
